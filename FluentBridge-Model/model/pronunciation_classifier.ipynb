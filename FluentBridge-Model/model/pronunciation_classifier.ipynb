{
 "cells": [
  {
   "cell_type": "code",
   "execution_count": null,
   "metadata": {},
   "outputs": [],
   "source": [
    "from google.colab import drive\n",
    "drive.mount('/content/drive')"
   ]
  },
  {
   "cell_type": "code",
   "execution_count": null,
   "metadata": {},
   "outputs": [],
   "source": [
    "import glob\n",
    "import os\n",
    "import librosa\n",
    "import numpy as np\n",
    "import matplotlib.pyplot as plt\n",
    "from matplotlib.pyplot import specgram\n",
    "import soundfile as sf\n",
    "\n",
    "\n",
    "def feature_extraction(file_name):\n",
    "\n",
    "    X , sample_rate = librosa.load(file_name, sr=None)\n",
    "    if X.ndim > 1:\n",
    "        X = X[:,0]\n",
    "    X = X.T\n",
    "    stft = np.abs(librosa.stft(X))\n",
    "    mfccs = np.mean(librosa.feature.mfcc(y=X, sr=sample_rate, n_mfcc=20).T, axis=0)\n",
    "    rmse = np.mean(librosa.feature.rms(y=X).T, axis=0)\n",
    "    spectral_flux = np.mean(librosa.onset.onset_strength(y=X, sr=sample_rate).T, axis=0)\n",
    "    zcr = np.mean(librosa.feature.zero_crossing_rate(y=X).T, axis=0)\n",
    "    return mfccs, rmse, spectral_flux, zcr\n",
    "\n",
    "def parse_audio_files(parent_dir, sub_dirs, file_ext='*.wav'):\n",
    "    n_mfccs = 20\n",
    "    number_of_features = 3 + n_mfccs\n",
    "    features, labels = np.empty((0,number_of_features)), np.empty(0)\n",
    "    for label, sub_dir in enumerate(sub_dirs):\n",
    "        for file_name in glob.glob(os.path.join(parent_dir, sub_dir, file_ext)):\n",
    "            print (\"Actual File Name: \", file_name)\n",
    "            try:\n",
    "                mfccs, rmse, spectral_flux, zcr = feature_extraction(file_name)\n",
    "            except Exception as e:\n",
    "                print(\"[Error] there was an error in feature extraction. %s\" % (e))\n",
    "                continue\n",
    "            extracted_features = np.hstack([mfccs, rmse, spectral_flux, zcr])\n",
    "            features = np.vstack([features, extracted_features])\n",
    "            labels = np.append(labels, label)\n",
    "        print(\"Extracted features from %s, done\" % (sub_dir))\n",
    "    return np.array(features), np.array(labels, dtype =int)\n"
   ]
  },
  {
   "cell_type": "code",
   "execution_count": null,
   "metadata": {},
   "outputs": [],
   "source": [
    "cd /content/drive/MyDrive"
   ]
  },
  {
   "cell_type": "code",
   "execution_count": null,
   "metadata": {},
   "outputs": [],
   "source": [
    "#Read audio classes directories\n",
    "import os\n",
    "audio_subdirectories = os.listdir(\"audio data\")\n",
    "audio_subdirectories.sort()\n",
    "print ('Audio Subdirs: ', audio_subdirectories)"
   ]
  },
  {
   "cell_type": "code",
   "execution_count": null,
   "metadata": {},
   "outputs": [],
   "source": [
    "from os import walk\n",
    "from os import path\n",
    "\n",
    "for (dirpath, dirnames, filenames) in walk(\"/content/drive/MyDrive/audio data/001 - Low/\"):\n",
    "    print(filenames)\n",
    "    for i in range(len(filenames)):\n",
    "        old_path = os.path.join(\"/content/drive/MyDrive/audio data/001 - Low/\", filenames[i])\n",
    "        new_path = os.path.join(\"/content/drive/MyDrive/audio data/001 - Low/\", filenames[i].replace(\" \", \"_\") + '.wav')\n",
    "        os.rename(old_path, new_path)"
   ]
  },
  {
   "cell_type": "code",
   "execution_count": null,
   "metadata": {},
   "outputs": [],
   "source": [
    "import os\n",
    "from os import walk\n",
    "from os import path\n",
    "\n",
    "for (dirpath, dirnames, filenames) in walk(\"/content/drive/MyDrive/audio data/003 - High\"):\n",
    "    print(filenames)\n",
    "    for i in range(len(filenames)):\n",
    "        old_path = os.path.join(\"/content/drive/MyDrive/audio data/003 - High\", filenames[i])\n",
    "        new_path = os.path.join(\"/content/drive/MyDrive/audio data/003 - High\", filenames[i].replace(\" \", \"_\") + '.wav')\n",
    "        os.rename(old_path, new_path)"
   ]
  },
  {
   "cell_type": "code",
   "execution_count": null,
   "metadata": {},
   "outputs": [],
   "source": []
  }
 ],
 "metadata": {
  "language_info": {
   "name": "python"
  }
 },
 "nbformat": 4,
 "nbformat_minor": 2
}
