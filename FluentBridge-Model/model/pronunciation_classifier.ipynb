{
 "cells": [
  {
   "cell_type": "code",
   "execution_count": null,
   "metadata": {},
   "outputs": [],
   "source": [
    "from google.colab import drive\n",
    "drive.mount('/content/drive')"
   ]
  },
  {
   "cell_type": "code",
   "execution_count": null,
   "metadata": {},
   "outputs": [],
   "source": [
    "import glob\n",
    "import os\n",
    "import librosa\n",
    "import numpy as np\n",
    "import matplotlib.pyplot as plt\n",
    "from matplotlib.pyplot import specgram\n",
    "import soundfile as sf\n",
    "\n",
    "\n",
    "def feature_extraction(file_name):\n",
    "\n",
    "    X , sample_rate = librosa.load(file_name, sr=None)\n",
    "    if X.ndim > 1:\n",
    "        X = X[:,0]\n",
    "    X = X.T\n",
    "    stft = np.abs(librosa.stft(X))\n",
    "    mfccs = np.mean(librosa.feature.mfcc(y=X, sr=sample_rate, n_mfcc=20).T, axis=0)\n",
    "    rmse = np.mean(librosa.feature.rms(y=X).T, axis=0)\n",
    "    spectral_flux = np.mean(librosa.onset.onset_strength(y=X, sr=sample_rate).T, axis=0)\n",
    "    zcr = np.mean(librosa.feature.zero_crossing_rate(y=X).T, axis=0)\n",
    "    return mfccs, rmse, spectral_flux, zcr\n",
    "\n",
    "def parse_audio_files(parent_dir, sub_dirs, file_ext='*.wav'):\n",
    "    n_mfccs = 20\n",
    "    number_of_features = 3 + n_mfccs\n",
    "    features, labels = np.empty((0,number_of_features)), np.empty(0)\n",
    "    for label, sub_dir in enumerate(sub_dirs):\n",
    "        for file_name in glob.glob(os.path.join(parent_dir, sub_dir, file_ext)):\n",
    "            print (\"Actual File Name: \", file_name)\n",
    "            try:\n",
    "                mfccs, rmse, spectral_flux, zcr = feature_extraction(file_name)\n",
    "            except Exception as e:\n",
    "                print(\"[Error] there was an error in feature extraction. %s\" % (e))\n",
    "                continue\n",
    "            extracted_features = np.hstack([mfccs, rmse, spectral_flux, zcr])\n",
    "            features = np.vstack([features, extracted_features])\n",
    "            labels = np.append(labels, label)\n",
    "        print(\"Extracted features from %s, done\" % (sub_dir))\n",
    "    return np.array(features), np.array(labels, dtype =int)\n"
   ]
  },
  {
   "cell_type": "code",
   "execution_count": null,
   "metadata": {},
   "outputs": [],
   "source": [
    "cd /content/drive/MyDrive"
   ]
  },
  {
   "cell_type": "code",
   "execution_count": null,
   "metadata": {},
   "outputs": [],
   "source": [
    "#Read audio classes directories\n",
    "import os\n",
    "audio_subdirectories = os.listdir(\"audio data\")\n",
    "audio_subdirectories.sort()\n",
    "print ('Audio Subdirs: ', audio_subdirectories)"
   ]
  },
  {
   "cell_type": "code",
   "execution_count": null,
   "metadata": {},
   "outputs": [],
   "source": [
    "from os import walk\n",
    "from os import path\n",
    "\n",
    "for (dirpath, dirnames, filenames) in walk(\"/content/drive/MyDrive/audio data/001 - Low/\"):\n",
    "    print(filenames)\n",
    "    for i in range(len(filenames)):\n",
    "        old_path = os.path.join(\"/content/drive/MyDrive/audio data/001 - Low/\", filenames[i])\n",
    "        new_path = os.path.join(\"/content/drive/MyDrive/audio data/001 - Low/\", filenames[i].replace(\" \", \"_\") + '.wav')\n",
    "        os.rename(old_path, new_path)"
   ]
  },
  {
   "cell_type": "code",
   "execution_count": null,
   "metadata": {},
   "outputs": [],
   "source": [
    "import os\n",
    "from os import walk\n",
    "from os import path\n",
    "\n",
    "for (dirpath, dirnames, filenames) in walk(\"/content/drive/MyDrive/audio data/003 - High\"):\n",
    "    print(filenames)\n",
    "    for i in range(len(filenames)):\n",
    "        old_path = os.path.join(\"/content/drive/MyDrive/audio data/003 - High\", filenames[i])\n",
    "        new_path = os.path.join(\"/content/drive/MyDrive/audio data/003 - High\", filenames[i].replace(\" \", \"_\") + '.wav')\n",
    "        os.rename(old_path, new_path)"
   ]
  },
  {
   "cell_type": "code",
   "execution_count": null,
   "metadata": {},
   "outputs": [],
   "source": [
    "features, labels = parse_audio_files('/content/drive/MyDrive/audio data',audio_subdirectories)\n",
    "np.save('feat6.npy', features)\n",
    "np.save('label6.npy', labels)"
   ]
  },
  {
   "cell_type": "markdown",
   "metadata": {},
   "source": [
    "print (len(features))"
   ]
  },
  {
   "cell_type": "markdown",
   "metadata": {},
   "source": [
    "#Load np files\n",
    "import numpy as np\n",
    "features= np.load('feat4.npy')\n",
    "print(len(features[1]))"
   ]
  },
  {
   "cell_type": "markdown",
   "metadata": {},
   "source": [
    "import numpy as np\n",
    "features= np.load('feat4.npy')\n",
    "\n",
    "#Pandas dataframe with N features for each audio\n",
    "import pandas as pd\n",
    "df = pd.DataFrame(features)\n",
    "df"
   ]
  },
  {
   "cell_type": "markdown",
   "metadata": {},
   "source": [
    "labels = np.load('label5.npy')\n",
    "print(labels)\n",
    "\n",
    "# For future label de-encoding\n",
    "label_classes = np.array(['Low','Intermediate','High'])\n",
    "print(label_classes)"
   ]
  },
  {
   "cell_type": "markdown",
   "metadata": {},
   "source": [
    "np.unique(labels)"
   ]
  },
  {
   "cell_type": "code",
   "execution_count": null,
   "metadata": {},
   "outputs": [],
   "source": [
    "import matplotlib.pyplot as plt\n",
    "import librosa.display\n",
    "plt.figure(figsize=(13, 6))\n",
    "librosa.display.specshow(features, x_axis='time')\n",
    "plt.colorbar()\n",
    "plt.title('MFCCs = 5 Values for 5s Audio Frames (High Class)')\n",
    "plt.tight_layout()\n",
    "plt.savefig('test saving.png')"
   ]
  },
  {
   "cell_type": "code",
   "execution_count": null,
   "metadata": {},
   "outputs": [],
   "source": [
    "#visulasisation of spectrogram\n",
    "import matplotlib.pyplot as plt\n",
    "y , sr = librosa.load('/content/drive/MyDrive/audio data/001 - Low/Avalinguo_-_Dana_and_Konay_segment_102_-_D.wav.wav.wav', sr=None) # Using my own audio segment\n",
    "plt.figure(figsize=(20, 15))\n",
    "D = librosa.amplitude_to_db(librosa.stft(y), ref=np.max)\n",
    "librosa.display.specshow(D, y_axis='linear')\n",
    "#plt.colorbar(format='%+2.0f dB')\n",
    "#plt.title('Linear-frequency power spectrogram')\n",
    "#plt.subplot(4, 2, 2)\n",
    "librosa.display.specshow(D, y_axis='log')\n",
    "plt.colorbar(format='%+2.0f dB')\n",
    "plt.title('Log-frequency power spectrogram')\n",
    "C = librosa.feature.chroma_cqt(y=y, sr=sr)\n",
    "plt.subplot(4, 2, 3)\n",
    "librosa.display.specshow(C, y_axis='chroma')\n",
    "plt.colorbar()\n",
    "plt.title('Chromagram')\n",
    "plt.subplot(4, 2, 4)\n",
    "librosa.display.specshow(D, cmap='gray_r', y_axis='linear')\n",
    "plt.colorbar(format='%+2.0f dB')\n",
    "plt.title('Linear power spectrogram (grayscale)')"
   ]
  },
  {
   "cell_type": "code",
   "execution_count": null,
   "metadata": {},
   "outputs": [],
   "source": [
    "import numpy as np\n",
    "import keras\n",
    "from keras.models import Sequential\n",
    "from keras.layers import Dense, Dropout\n",
    "from keras.optimizers import SGD\n",
    "from sklearn.model_selection import train_test_split\n",
    "\n",
    "# Fix random seed number # for the reproducapility purpose\n",
    "np.random.seed(7)\n",
    "\n",
    "# Load the data\n",
    "X = np.load('feat5.npy')\n",
    "y = np.load('label5.npy').ravel()\n",
    "\n",
    "number_of_features = len(X[1])\n",
    "number_of_classes = 3\n",
    "\n",
    "# Sample data randomly\n",
    "X_train, X_test, y_train, y_test = train_test_split(X, y, test_size=0.3, random_state=0)\n",
    "\n",
    "# Neural Network Architecture\n",
    "model = Sequential()\n",
    "\n",
    "# 1st Layer\n",
    "model.add(Dense(512, input_dim=number_of_features, activation='relu'))\n",
    "model.add(Dropout(0.5))\n",
    "\n",
    "# 2nd Layer\n",
    "model.add(Dense(512, activation='relu'))\n",
    "model.add(Dropout(0.5))\n",
    "\n",
    "# 3rd Layer. Output 3 neurons corresponding to the number of classes\n",
    "model.add(Dense(number_of_classes, activation='softmax'))\n",
    "\n",
    "# Model Compilation. Loss for multi-class classification problem\n",
    "sgd = SGD(learning_rate=0.01, momentum=0.9, nesterov=True)  # Use learning_rate instead of lr\n",
    "rmsprop = 'rmsprop'\n",
    "adam = 'adam'\n",
    "model.compile(loss='categorical_crossentropy',\n",
    "              optimizer=rmsprop,  # rmsprop better than sgd\n",
    "              metrics=['accuracy'])\n",
    "\n",
    "# Convert labels to categorical one-hot encoding\n",
    "y_train = keras.utils.to_categorical(y_train-1, num_classes=number_of_classes)\n",
    "y_test = keras.utils.to_categorical(y_test-1, num_classes=number_of_classes)\n",
    "\n",
    "# Train and test\n",
    "model.fit(X_train, y_train, epochs=300, batch_size=64)  # batch 32, 64, 128, 256, 512\n",
    "score, acc = model.evaluate(X_test, y_test, batch_size=64)\n"
   ]
  },
  {
   "cell_type": "code",
   "execution_count": null,
   "metadata": {},
   "outputs": [],
   "source": [
    "print ('Test score:', score)\n",
    "print('Test accuracy:', acc)"
   ]
  },
  {
   "cell_type": "markdown",
   "metadata": {},
   "source": [
    "Saving the Model"
   ]
  },
  {
   "cell_type": "code",
   "execution_count": null,
   "metadata": {},
   "outputs": [],
   "source": [
    "import pickle"
   ]
  },
  {
   "cell_type": "code",
   "execution_count": null,
   "metadata": {},
   "outputs": [],
   "source": [
    "from tensorflow.keras.models import save_model\n",
    "\n",
    "\n",
    "# Save the model in HDF5 format\n",
    "model.save('classifier.h5')"
   ]
  },
  {
   "cell_type": "code",
   "execution_count": null,
   "metadata": {},
   "outputs": [],
   "source": [
    "!pwd"
   ]
  },
  {
   "cell_type": "code",
   "execution_count": null,
   "metadata": {},
   "outputs": [],
   "source": [
    "from google.colab import files\n",
    "\n",
    "files.download('classifier.h5')"
   ]
  },
  {
   "cell_type": "code",
   "execution_count": null,
   "metadata": {},
   "outputs": [],
   "source": []
  },
  {
   "cell_type": "code",
   "execution_count": null,
   "metadata": {},
   "outputs": [],
   "source": []
  }
 ],
 "metadata": {
  "language_info": {
   "name": "python"
  }
 },
 "nbformat": 4,
 "nbformat_minor": 2
}
